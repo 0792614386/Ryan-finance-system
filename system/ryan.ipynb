{
 "cells": [
  {
   "cell_type": "code",
   "execution_count": 1,
   "id": "8166a695",
   "metadata": {},
   "outputs": [],
   "source": [
    "import pandas as pd\n",
    "import numpy as np\n",
    "from sklearn.model_selection import train_test_split\n",
    "from sklearn.preprocessing import LabelEncoder, StandardScaler\n",
    "from tensorflow.keras.models import Sequential\n",
    "from tensorflow.keras.layers import Dense, Dropout\n"
   ]
  },
  {
   "cell_type": "code",
   "execution_count": 2,
   "id": "c8d28861",
   "metadata": {},
   "outputs": [],
   "source": [
    "# 1. Generate synthetic dataset\n",
    "np.random.seed(42)\n",
    "n_samples = 5000\n",
    "categories = ['groceries', 'rent', 'utilities', 'entertainment', 'salary', 'subscription']\n",
    "merchants = ['Walmart', 'Netflix', 'Spotify', 'Amazon', 'Landlord', 'Employer']"
   ]
  },
  {
   "cell_type": "code",
   "execution_count": 3,
   "id": "9a57d65c",
   "metadata": {},
   "outputs": [],
   "source": [
    "data = pd.DataFrame({\n",
    "    'amount': np.random.uniform(5, 5000, size=n_samples),\n",
    "    'category': np.random.choice(categories, size=n_samples),\n",
    "    'merchant': np.random.choice(merchants, size=n_samples),\n",
    "    'day_of_month': np.random.randint(1, 31, size=n_samples),\n",
    "    'day_of_week': np.random.randint(0, 7, size=n_samples),\n",
    "    'hour': np.random.randint(0, 24, size=n_samples),\n",
    "    'balance': np.random.uniform(0, 10000, size=n_samples)\n",
    "})"
   ]
  },
  {
   "cell_type": "code",
   "execution_count": 4,
   "id": "2c7cdf33",
   "metadata": {},
   "outputs": [],
   "source": [
    "# 2. Create synthetic labels\n",
    "data['bill_due'] = (data['category'].isin(['rent', 'utilities', 'subscription']) & (data['day_of_month'] < 5)).astype(int)\n",
    "data['expense_class'] = LabelEncoder().fit_transform(data['category'])\n",
    "data['low_balance'] = (data['balance'] < 500).astype(int)\n"
   ]
  },
  {
   "cell_type": "code",
   "execution_count": 5,
   "id": "f2c2ca8f",
   "metadata": {},
   "outputs": [],
   "source": [
    "# 3. Preprocess features\n",
    "features = data[['amount', 'day_of_month', 'day_of_week', 'hour', 'balance']]\n",
    "features = pd.get_dummies(features.join(pd.get_dummies(data['merchant'], prefix='mch')), drop_first=True)\n",
    "\n",
    "scaler = StandardScaler()\n",
    "X = scaler.fit_transform(features)\n",
    "# Labels\n",
    "y_bill_due = data['bill_due']\n",
    "y_expense_class = data['expense_class']\n",
    "y_low_balance = data['low_balance']\n"
   ]
  },
  {
   "cell_type": "code",
   "execution_count": 6,
   "id": "542bd102",
   "metadata": {},
   "outputs": [],
   "source": [
    "# 4. Split data\n",
    "X_train, X_test, y1_train, y1_test, y2_train, y2_test, y3_train, y3_test = train_test_split(\n",
    "    X, y_bill_due, y_expense_class, y_low_balance, test_size=0.2, random_state=42)"
   ]
  },
  {
   "cell_type": "code",
   "execution_count": 7,
   "id": "c92abb5f",
   "metadata": {},
   "outputs": [
    {
     "name": "stderr",
     "output_type": "stream",
     "text": [
      "c:\\Users\\loret\\AppData\\Local\\Programs\\Python\\Python311\\Lib\\site-packages\\keras\\src\\layers\\core\\dense.py:87: UserWarning: Do not pass an `input_shape`/`input_dim` argument to a layer. When using Sequential models, prefer using an `Input(shape)` object as the first layer in the model instead.\n",
      "  super().__init__(activity_regularizer=activity_regularizer, **kwargs)\n"
     ]
    },
    {
     "name": "stdout",
     "output_type": "stream",
     "text": [
      "Epoch 1/10\n",
      "\u001b[1m125/125\u001b[0m \u001b[32m━━━━━━━━━━━━━━━━━━━━\u001b[0m\u001b[37m\u001b[0m \u001b[1m4s\u001b[0m 5ms/step - accuracy: 0.9102 - loss: 0.3622\n",
      "Epoch 2/10\n",
      "\u001b[1m125/125\u001b[0m \u001b[32m━━━━━━━━━━━━━━━━━━━━\u001b[0m\u001b[37m\u001b[0m \u001b[1m1s\u001b[0m 4ms/step - accuracy: 0.9401 - loss: 0.1684\n",
      "Epoch 3/10\n",
      "\u001b[1m125/125\u001b[0m \u001b[32m━━━━━━━━━━━━━━━━━━━━\u001b[0m\u001b[37m\u001b[0m \u001b[1m1s\u001b[0m 5ms/step - accuracy: 0.9420 - loss: 0.1426\n",
      "Epoch 4/10\n",
      "\u001b[1m125/125\u001b[0m \u001b[32m━━━━━━━━━━━━━━━━━━━━\u001b[0m\u001b[37m\u001b[0m \u001b[1m1s\u001b[0m 5ms/step - accuracy: 0.9334 - loss: 0.1443\n",
      "Epoch 5/10\n",
      "\u001b[1m125/125\u001b[0m \u001b[32m━━━━━━━━━━━━━━━━━━━━\u001b[0m\u001b[37m\u001b[0m \u001b[1m1s\u001b[0m 4ms/step - accuracy: 0.9331 - loss: 0.1413\n",
      "Epoch 6/10\n",
      "\u001b[1m125/125\u001b[0m \u001b[32m━━━━━━━━━━━━━━━━━━━━\u001b[0m\u001b[37m\u001b[0m \u001b[1m1s\u001b[0m 5ms/step - accuracy: 0.9342 - loss: 0.1250\n",
      "Epoch 7/10\n",
      "\u001b[1m125/125\u001b[0m \u001b[32m━━━━━━━━━━━━━━━━━━━━\u001b[0m\u001b[37m\u001b[0m \u001b[1m1s\u001b[0m 5ms/step - accuracy: 0.9374 - loss: 0.1269\n",
      "Epoch 8/10\n",
      "\u001b[1m125/125\u001b[0m \u001b[32m━━━━━━━━━━━━━━━━━━━━\u001b[0m\u001b[37m\u001b[0m \u001b[1m1s\u001b[0m 5ms/step - accuracy: 0.9363 - loss: 0.1208\n",
      "Epoch 9/10\n",
      "\u001b[1m125/125\u001b[0m \u001b[32m━━━━━━━━━━━━━━━━━━━━\u001b[0m\u001b[37m\u001b[0m \u001b[1m1s\u001b[0m 5ms/step - accuracy: 0.9374 - loss: 0.1137\n",
      "Epoch 10/10\n",
      "\u001b[1m125/125\u001b[0m \u001b[32m━━━━━━━━━━━━━━━━━━━━\u001b[0m\u001b[37m\u001b[0m \u001b[1m1s\u001b[0m 4ms/step - accuracy: 0.9425 - loss: 0.1135\n"
     ]
    },
    {
     "data": {
      "text/plain": [
       "<keras.src.callbacks.history.History at 0x2683223cfd0>"
      ]
     },
     "execution_count": 7,
     "metadata": {},
     "output_type": "execute_result"
    }
   ],
   "source": [
    "# 5. Model 1: Bill Reminders (binary classification)\n",
    "model_bill = Sequential([\n",
    "    Dense(64, input_dim=X.shape[1], activation='relu'),\n",
    "    Dropout(0.3),\n",
    "    Dense(32, activation='relu'),\n",
    "    Dense(1, activation='sigmoid')\n",
    "])\n",
    "model_bill.compile(optimizer='adam', loss='binary_crossentropy', metrics=['accuracy'])\n",
    "model_bill.fit(X_train, y1_train, epochs=10, batch_size=32, verbose=1)"
   ]
  },
  {
   "cell_type": "code",
   "execution_count": 15,
   "id": "d4cd77f8",
   "metadata": {},
   "outputs": [
    {
     "name": "stderr",
     "output_type": "stream",
     "text": [
      "WARNING:absl:You are saving your model as an HDF5 file via `model.save()` or `keras.saving.save_model(model)`. This file format is considered legacy. We recommend using instead the native Keras format, e.g. `model.save('my_model.keras')` or `keras.saving.save_model(model, 'my_model.keras')`. \n"
     ]
    },
    {
     "data": {
      "text/plain": [
       "['scaler.pkl']"
      ]
     },
     "execution_count": 15,
     "metadata": {},
     "output_type": "execute_result"
    }
   ],
   "source": [
    "# Save model\n",
    "save_model(model_bill, \"model_bill.h5\")\n",
    "\n",
    "# Save scaler\n",
    "scaler = StandardScaler()\n",
    "scaler.fit(X)\n",
    "joblib.dump(scaler, \"scaler.pkl\")"
   ]
  },
  {
   "cell_type": "code",
   "execution_count": 8,
   "id": "1bc4e2a6",
   "metadata": {},
   "outputs": [
    {
     "name": "stdout",
     "output_type": "stream",
     "text": [
      "Epoch 1/10\n",
      "\u001b[1m125/125\u001b[0m \u001b[32m━━━━━━━━━━━━━━━━━━━━\u001b[0m\u001b[37m\u001b[0m \u001b[1m3s\u001b[0m 5ms/step - accuracy: 0.1725 - loss: 1.8445\n",
      "Epoch 2/10\n",
      "\u001b[1m125/125\u001b[0m \u001b[32m━━━━━━━━━━━━━━━━━━━━\u001b[0m\u001b[37m\u001b[0m \u001b[1m1s\u001b[0m 5ms/step - accuracy: 0.1693 - loss: 1.7956\n",
      "Epoch 3/10\n",
      "\u001b[1m125/125\u001b[0m \u001b[32m━━━━━━━━━━━━━━━━━━━━\u001b[0m\u001b[37m\u001b[0m \u001b[1m1s\u001b[0m 5ms/step - accuracy: 0.1945 - loss: 1.7956\n",
      "Epoch 4/10\n",
      "\u001b[1m125/125\u001b[0m \u001b[32m━━━━━━━━━━━━━━━━━━━━\u001b[0m\u001b[37m\u001b[0m \u001b[1m1s\u001b[0m 5ms/step - accuracy: 0.1895 - loss: 1.7870\n",
      "Epoch 5/10\n",
      "\u001b[1m125/125\u001b[0m \u001b[32m━━━━━━━━━━━━━━━━━━━━\u001b[0m\u001b[37m\u001b[0m \u001b[1m1s\u001b[0m 3ms/step - accuracy: 0.2080 - loss: 1.7862\n",
      "Epoch 6/10\n",
      "\u001b[1m125/125\u001b[0m \u001b[32m━━━━━━━━━━━━━━━━━━━━\u001b[0m\u001b[37m\u001b[0m \u001b[1m1s\u001b[0m 4ms/step - accuracy: 0.1960 - loss: 1.7820\n",
      "Epoch 7/10\n",
      "\u001b[1m125/125\u001b[0m \u001b[32m━━━━━━━━━━━━━━━━━━━━\u001b[0m\u001b[37m\u001b[0m \u001b[1m1s\u001b[0m 4ms/step - accuracy: 0.2051 - loss: 1.7782\n",
      "Epoch 8/10\n",
      "\u001b[1m125/125\u001b[0m \u001b[32m━━━━━━━━━━━━━━━━━━━━\u001b[0m\u001b[37m\u001b[0m \u001b[1m1s\u001b[0m 4ms/step - accuracy: 0.1985 - loss: 1.7813\n",
      "Epoch 9/10\n",
      "\u001b[1m125/125\u001b[0m \u001b[32m━━━━━━━━━━━━━━━━━━━━\u001b[0m\u001b[37m\u001b[0m \u001b[1m1s\u001b[0m 6ms/step - accuracy: 0.2224 - loss: 1.7707\n",
      "Epoch 10/10\n",
      "\u001b[1m125/125\u001b[0m \u001b[32m━━━━━━━━━━━━━━━━━━━━\u001b[0m\u001b[37m\u001b[0m \u001b[1m1s\u001b[0m 4ms/step - accuracy: 0.2039 - loss: 1.7779\n"
     ]
    },
    {
     "data": {
      "text/plain": [
       "<keras.src.callbacks.history.History at 0x26832340090>"
      ]
     },
     "execution_count": 8,
     "metadata": {},
     "output_type": "execute_result"
    }
   ],
   "source": [
    "# 6. Model 2: Expense Classification (multiclass)\n",
    "model_expense = Sequential([\n",
    "    Dense(64, input_dim=X.shape[1], activation='relu'),\n",
    "    Dropout(0.3),\n",
    "    Dense(32, activation='relu'),\n",
    "    Dense(len(np.unique(y_expense_class)), activation='softmax')\n",
    "])\n",
    "model_expense.compile(optimizer='adam', loss='sparse_categorical_crossentropy', metrics=['accuracy'])\n",
    "model_expense.fit(X_train, y2_train, epochs=10, batch_size=32, verbose=1)\n"
   ]
  },
  {
   "cell_type": "code",
   "execution_count": 14,
   "id": "f66ef3f0",
   "metadata": {},
   "outputs": [
    {
     "name": "stderr",
     "output_type": "stream",
     "text": [
      "WARNING:absl:You are saving your model as an HDF5 file via `model.save()` or `keras.saving.save_model(model)`. This file format is considered legacy. We recommend using instead the native Keras format, e.g. `model.save('my_model.keras')` or `keras.saving.save_model(model, 'my_model.keras')`. \n"
     ]
    },
    {
     "data": {
      "text/plain": [
       "['scaler.pkl']"
      ]
     },
     "execution_count": 14,
     "metadata": {},
     "output_type": "execute_result"
    }
   ],
   "source": [
    "# Save model\n",
    "save_model(model_expense, \"model_bill.h5\")\n",
    "\n",
    "# Save scaler\n",
    "scaler = StandardScaler()\n",
    "scaler.fit(X)\n",
    "joblib.dump(scaler, \"scaler.pkl\")"
   ]
  },
  {
   "cell_type": "code",
   "execution_count": 9,
   "id": "15909b51",
   "metadata": {},
   "outputs": [
    {
     "name": "stdout",
     "output_type": "stream",
     "text": [
      "Epoch 1/10\n",
      "\u001b[1m125/125\u001b[0m \u001b[32m━━━━━━━━━━━━━━━━━━━━\u001b[0m\u001b[37m\u001b[0m \u001b[1m3s\u001b[0m 5ms/step - accuracy: 0.7315 - loss: 0.4890\n",
      "Epoch 2/10\n",
      "\u001b[1m125/125\u001b[0m \u001b[32m━━━━━━━━━━━━━━━━━━━━\u001b[0m\u001b[37m\u001b[0m \u001b[1m1s\u001b[0m 5ms/step - accuracy: 0.9488 - loss: 0.1611\n",
      "Epoch 3/10\n",
      "\u001b[1m125/125\u001b[0m \u001b[32m━━━━━━━━━━━━━━━━━━━━\u001b[0m\u001b[37m\u001b[0m \u001b[1m1s\u001b[0m 5ms/step - accuracy: 0.9550 - loss: 0.1226\n",
      "Epoch 4/10\n",
      "\u001b[1m125/125\u001b[0m \u001b[32m━━━━━━━━━━━━━━━━━━━━\u001b[0m\u001b[37m\u001b[0m \u001b[1m1s\u001b[0m 4ms/step - accuracy: 0.9512 - loss: 0.1099\n",
      "Epoch 5/10\n",
      "\u001b[1m125/125\u001b[0m \u001b[32m━━━━━━━━━━━━━━━━━━━━\u001b[0m\u001b[37m\u001b[0m \u001b[1m1s\u001b[0m 5ms/step - accuracy: 0.9568 - loss: 0.0969\n",
      "Epoch 6/10\n",
      "\u001b[1m125/125\u001b[0m \u001b[32m━━━━━━━━━━━━━━━━━━━━\u001b[0m\u001b[37m\u001b[0m \u001b[1m1s\u001b[0m 5ms/step - accuracy: 0.9634 - loss: 0.0842\n",
      "Epoch 7/10\n",
      "\u001b[1m125/125\u001b[0m \u001b[32m━━━━━━━━━━━━━━━━━━━━\u001b[0m\u001b[37m\u001b[0m \u001b[1m1s\u001b[0m 5ms/step - accuracy: 0.9652 - loss: 0.0778\n",
      "Epoch 8/10\n",
      "\u001b[1m125/125\u001b[0m \u001b[32m━━━━━━━━━━━━━━━━━━━━\u001b[0m\u001b[37m\u001b[0m \u001b[1m1s\u001b[0m 4ms/step - accuracy: 0.9668 - loss: 0.0769\n",
      "Epoch 9/10\n",
      "\u001b[1m125/125\u001b[0m \u001b[32m━━━━━━━━━━━━━━━━━━━━\u001b[0m\u001b[37m\u001b[0m \u001b[1m1s\u001b[0m 4ms/step - accuracy: 0.9711 - loss: 0.0690\n",
      "Epoch 10/10\n",
      "\u001b[1m125/125\u001b[0m \u001b[32m━━━━━━━━━━━━━━━━━━━━\u001b[0m\u001b[37m\u001b[0m \u001b[1m1s\u001b[0m 5ms/step - accuracy: 0.9660 - loss: 0.0769\n"
     ]
    },
    {
     "data": {
      "text/plain": [
       "<keras.src.callbacks.history.History at 0x268322c8090>"
      ]
     },
     "execution_count": 9,
     "metadata": {},
     "output_type": "execute_result"
    }
   ],
   "source": [
    "# 7. Model 3: Low Balance Prediction (binary classification)\n",
    "model_balance = Sequential([\n",
    "    Dense(64, input_dim=X.shape[1], activation='relu'),\n",
    "    Dropout(0.3),\n",
    "    Dense(32, activation='relu'),\n",
    "    Dense(1, activation='sigmoid')\n",
    "])\n",
    "model_balance.compile(optimizer='adam', loss='binary_crossentropy', metrics=['accuracy'])\n",
    "model_balance.fit(X_train, y3_train, epochs=10, batch_size=32, verbose=1)"
   ]
  },
  {
   "cell_type": "code",
   "execution_count": 13,
   "id": "2af67ee4",
   "metadata": {},
   "outputs": [
    {
     "name": "stderr",
     "output_type": "stream",
     "text": [
      "WARNING:absl:You are saving your model as an HDF5 file via `model.save()` or `keras.saving.save_model(model)`. This file format is considered legacy. We recommend using instead the native Keras format, e.g. `model.save('my_model.keras')` or `keras.saving.save_model(model, 'my_model.keras')`. \n"
     ]
    },
    {
     "data": {
      "text/plain": [
       "['scaler.pkl']"
      ]
     },
     "execution_count": 13,
     "metadata": {},
     "output_type": "execute_result"
    }
   ],
   "source": [
    "# Save model\n",
    "save_model(model_balance, \"model_bill.h5\")\n",
    "\n",
    "# Save scaler\n",
    "scaler = StandardScaler()\n",
    "scaler.fit(X)\n",
    "joblib.dump(scaler, \"scaler.pkl\")"
   ]
  },
  {
   "cell_type": "code",
   "execution_count": 10,
   "id": "11af214f",
   "metadata": {},
   "outputs": [
    {
     "name": "stdout",
     "output_type": "stream",
     "text": [
      "\n",
      "Evaluation - Bill Reminder:\n",
      "\u001b[1m32/32\u001b[0m \u001b[32m━━━━━━━━━━━━━━━━━━━━\u001b[0m\u001b[37m\u001b[0m \u001b[1m1s\u001b[0m 7ms/step - accuracy: 0.9259 - loss: 0.1145\n",
      "\n",
      "Evaluation - Expense Classification:\n",
      "\u001b[1m32/32\u001b[0m \u001b[32m━━━━━━━━━━━━━━━━━━━━\u001b[0m\u001b[37m\u001b[0m \u001b[1m1s\u001b[0m 6ms/step - accuracy: 0.1414 - loss: 1.8182\n",
      "\n",
      "Evaluation - Low Balance Alert:\n",
      "\u001b[1m32/32\u001b[0m \u001b[32m━━━━━━━━━━━━━━━━━━━━\u001b[0m\u001b[37m\u001b[0m \u001b[1m0s\u001b[0m 6ms/step - accuracy: 0.9797 - loss: 0.0581\n"
     ]
    },
    {
     "data": {
      "text/plain": [
       "[0.0571393258869648, 0.9810000061988831]"
      ]
     },
     "execution_count": 10,
     "metadata": {},
     "output_type": "execute_result"
    }
   ],
   "source": [
    "# 8. Evaluate each model\n",
    "print(\"\\nEvaluation - Bill Reminder:\")\n",
    "model_bill.evaluate(X_test, y1_test, verbose=1)\n",
    "\n",
    "print(\"\\nEvaluation - Expense Classification:\")\n",
    "model_expense.evaluate(X_test, y2_test, verbose=1)\n",
    "\n",
    "print(\"\\nEvaluation - Low Balance Alert:\")\n",
    "model_balance.evaluate(X_test, y3_test, verbose=1)\n"
   ]
  },
  {
   "cell_type": "code",
   "execution_count": null,
   "id": "69241f40",
   "metadata": {},
   "outputs": [
    {
     "name": "stdout",
     "output_type": "stream",
     "text": [
      "Upcoming Bill Reminders:\n",
      "  - Electricity bill of $100 is due in -1 days (2025-06-15)\n",
      "  - Internet bill of $50 is due in 4 days (2025-06-20)\n",
      "\n",
      "Expense Classification:\n",
      "  - Grocery shopping: Food\n",
      "  - Movie tickets: Entertainment\n",
      "  - Bus fare: Transport\n",
      "  - Restaurant: Food\n",
      "\n",
      "Projected balance after expenses and bills: $-130\n",
      "Warning: Low balance! Consider reducing expenses.\n"
     ]
    }
   ],
   "source": [
    "# finance_system.py\n",
    "\n",
    "import datetime\n",
    "\n",
    "# Sample data\n",
    "bills = [\n",
    "    {\"name\": \"Electricity\", \"due_date\": \"2025-06-15\", \"amount\": 100},\n",
    "    {\"name\": \"Internet\", \"due_date\": \"2025-06-20\", \"amount\": 50},\n",
    "]\n",
    "\n",
    "expenses = [\n",
    "    {\"description\": \"Grocery shopping\", \"amount\": 80},\n",
    "    {\"description\": \"Movie tickets\", \"amount\": 30},\n",
    "    {\"description\": \"Bus fare\", \"amount\": 10},\n",
    "    {\"description\": \"Restaurant\", \"amount\": 60},\n",
    "]\n",
    "\n",
    "expense_categories = {\n",
    "    \"grocery\": \"Food\",\n",
    "    \"movie\": \"Entertainment\",\n",
    "    \"bus\": \"Transport\",\n",
    "    \"restaurant\": \"Food\",\n",
    "}\n",
    "\n",
    "balance = 200  # Synthetic balance\n",
    "\n",
    "# 1. Bill Reminders\n",
    "def bill_reminders(bills):\n",
    "    today = datetime.date.today()\n",
    "    print(\"Upcoming Bill Reminders:\")\n",
    "    for bill in bills:\n",
    "        due = datetime.datetime.strptime(bill[\"due_date\"], \"%Y-%m-%d\").date()\n",
    "        days_left = (due - today).days\n",
    "        if days_left <= 7:\n",
    "            print(f\"  - {bill['name']} bill of ${bill['amount']} is due in {days_left} days ({bill['due_date']})\")\n",
    "\n",
    "# 2. Expense Classification\n",
    "def classify_expenses(expenses):\n",
    "    print(\"\\nExpense Classification:\")\n",
    "    for exp in expenses:\n",
    "        desc = exp[\"description\"].lower()\n",
    "        category = \"Other\"\n",
    "        for key in expense_categories:\n",
    "            if key in desc:\n",
    "                category = expense_categories[key]\n",
    "                break\n",
    "        print(f\"  - {exp['description']}: {category}\")\n",
    "\n",
    "# 3. Low Balance Simulation\n",
    "def simulate_balance(balance, expenses, bills):\n",
    "    total_expenses = sum(e[\"amount\"] for e in expenses)\n",
    "    total_bills = sum(b[\"amount\"] for b in bills)\n",
    "    projected_balance = balance - total_expenses - total_bills\n",
    "    print(f\"\\nProjected balance after expenses and bills: ${projected_balance}\")\n",
    "    if projected_balance < 50:\n",
    "        print(\"Warning: Low balance! Consider reducing expenses.\")\n",
    "\n",
    "if __name__ == \"__main__\":\n",
    "    bill_reminders(bills)\n",
    "    classify_expenses(expenses)\n",
    "    simulate_balance(balance, expenses, bills)"
   ]
  },
  {
   "cell_type": "code",
   "execution_count": 12,
   "id": "12517181",
   "metadata": {},
   "outputs": [
    {
     "name": "stderr",
     "output_type": "stream",
     "text": [
      "WARNING:absl:You are saving your model as an HDF5 file via `model.save()` or `keras.saving.save_model(model)`. This file format is considered legacy. We recommend using instead the native Keras format, e.g. `model.save('my_model.keras')` or `keras.saving.save_model(model, 'my_model.keras')`. \n",
      "WARNING:absl:You are saving your model as an HDF5 file via `model.save()` or `keras.saving.save_model(model)`. This file format is considered legacy. We recommend using instead the native Keras format, e.g. `model.save('my_model.keras')` or `keras.saving.save_model(model, 'my_model.keras')`. \n",
      "WARNING:absl:You are saving your model as an HDF5 file via `model.save()` or `keras.saving.save_model(model)`. This file format is considered legacy. We recommend using instead the native Keras format, e.g. `model.save('my_model.keras')` or `keras.saving.save_model(model, 'my_model.keras')`. \n"
     ]
    },
    {
     "data": {
      "text/plain": [
       "['scaler.pkl']"
      ]
     },
     "execution_count": 12,
     "metadata": {},
     "output_type": "execute_result"
    }
   ],
   "source": [
    "from tensorflow.keras.models import save_model\n",
    "import joblib\n",
    "\n",
    "# Save models\n",
    "save_model(model_bill, \"model_bill.h5\")\n",
    "save_model(model_expense, \"model_expense.h5\")\n",
    "save_model(model_balance, \"model_balance.h5\")\n",
    "\n",
    "# Save scaler\n",
    "joblib.dump(scaler, \"scaler.pkl\")\n"
   ]
  },
  {
   "cell_type": "code",
   "execution_count": 16,
   "id": "c56ff125",
   "metadata": {},
   "outputs": [],
   "source": [
    "import tkinter as tk\n",
    "from tkinter import messagebox\n",
    "import datetime"
   ]
  },
  {
   "cell_type": "code",
   "execution_count": 17,
   "id": "b4bd444e",
   "metadata": {},
   "outputs": [],
   "source": [
    "# Sample data\n",
    "bills = [\n",
    "    {\"name\": \"Electricity\", \"due_date\": \"2025-06-15\", \"amount\": 100},\n",
    "    {\"name\": \"Internet\", \"due_date\": \"2025-06-20\", \"amount\": 50},\n",
    "    {\"name\": \"Water\", \"due_date\": \"2025-06-18\", \"amount\": 30},\n",
    "]\n",
    "\n",
    "expenses = [\n",
    "    {\"description\": \"Grocery shopping\", \"amount\": 80},\n",
    "    {\"description\": \"Movie tickets\", \"amount\": 30},\n",
    "    {\"description\": \"Bus fare\", \"amount\": 10},\n",
    "    {\"description\": \"Restaurant\", \"amount\": 60},\n",
    "]\n",
    "\n",
    "expense_categories = {\n",
    "    \"grocery\": \"Food\",\n",
    "    \"movie\": \"Entertainment\",\n",
    "    \"bus\": \"Transport\",\n",
    "    \"restaurant\": \"Food\",\n",
    "}\n",
    "\n",
    "balance = 200  # Synthetic balance\n",
    "\n",
    "def get_upcoming_bills(bills):\n",
    "    today = datetime.date.today()\n",
    "    reminders = []\n",
    "    for bill in bills:\n",
    "        due = datetime.datetime.strptime(bill[\"due_date\"], \"%Y-%m-%d\").date()\n",
    "        days_left = (due - today).days\n",
    "        if 0 <= days_left <= 7:\n",
    "            reminders.append(f\"{bill['name']} (${bill['amount']}) due in {days_left} days ({bill['due_date']})\")\n",
    "    return reminders\n",
    "\n",
    "def show_bill_reminders():\n",
    "    reminders = get_upcoming_bills(bills)\n",
    "    if reminders:\n",
    "        reminder_text = \"\\n\".join(reminders)\n",
    "    else:\n",
    "        reminder_text = \"No bills due in the next 7 days.\"\n",
    "    messagebox.showinfo(\"Bill Reminders\", reminder_text)\n",
    "\n",
    "def classify_expenses(expenses):\n",
    "    results = []\n",
    "    for exp in expenses:\n",
    "        desc = exp[\"description\"].lower()\n",
    "        category = \"Other\"\n",
    "        for key in expense_categories:\n",
    "            if key in desc:\n",
    "                category = expense_categories[key]\n",
    "                break\n",
    "        results.append(f\"{exp['description']}: {category} (${exp['amount']})\")\n",
    "    return results\n",
    "\n",
    "def show_expense_classification():\n",
    "    results = classify_expenses(expenses)\n",
    "    if results:\n",
    "        text = \"\\n\".join(results)\n",
    "    else:\n",
    "        text = \"No expenses to classify.\"\n",
    "    messagebox.showinfo(\"Expense Classification\", text)\n",
    "\n",
    "def simulate_balance(balance, expenses, bills):\n",
    "    total_expenses = sum(e[\"amount\"] for e in expenses)\n",
    "    total_bills = sum(b[\"amount\"] for b in bills)\n",
    "    projected_balance = balance - total_expenses - total_bills\n",
    "    return projected_balance\n",
    "\n",
    "def show_balance_warning():\n",
    "    projected = simulate_balance(balance, expenses, bills)\n",
    "    msg = f\"Projected balance after expenses and bills: ${projected}\"\n",
    "    if projected < 50:\n",
    "        msg += \"\\nWarning: Low balance! Consider reducing expenses.\"\n",
    "    messagebox.showinfo(\"Balance Simulation\", msg)"
   ]
  },
  {
   "cell_type": "code",
   "execution_count": null,
   "id": "be2950bd",
   "metadata": {},
   "outputs": [],
   "source": [
    "# Tkinter GUI\n",
    "import tkinter as tk\n",
    "from tkinter import messagebox\n",
    "\n",
    "root = tk.Tk()\n",
    "root.title(\"Personal Finance Assistant\")\n",
    "\n",
    "frame = tk.Frame(root, padx=20, pady=20)\n",
    "frame.pack()\n",
    "\n",
    "label = tk.Label(frame, text=\"Personal Finance Assistant\", font=(\"Arial\", 14, \"bold\"))\n",
    "label.pack(pady=10)\n",
    "\n",
    "remind_button = tk.Button(frame, text=\"Show Bill Reminders\", command=show_bill_reminders, font=(\"Arial\", 12))\n",
    "remind_button.pack(pady=5)\n",
    "\n",
    "classify_button = tk.Button(frame, text=\"Classify Expenses\", command=show_expense_classification, font=(\"Arial\", 12))\n",
    "classify_button.pack(pady=5)\n",
    "\n",
    "balance_button = tk.Button(frame, text=\"Simulate Balance\", command=show_balance_warning, font=(\"Arial\", 12))\n",
    "balance_button.pack(pady=5)\n",
    "\n",
    "root.mainloop()"
   ]
  },
  {
   "cell_type": "code",
   "execution_count": 18,
   "id": "d968f489",
   "metadata": {},
   "outputs": [],
   "source": [
    "# --- Main App Interface ---\n",
    "def finance_ui():\n",
    "    login_window.destroy()\n",
    "    root = tk.Tk()\n",
    "    root.title(\"Personal Finance Assistant\")\n",
    "\n",
    "    frame = tk.Frame(root, padx=20, pady=20)\n",
    "    frame.pack()\n",
    "\n",
    "    label = tk.Label(frame, text=\"Personal Finance Assistant\", font=(\"Arial\", 14, \"bold\"))\n",
    "    label.pack(pady=10)\n",
    "\n",
    "    tk.Button(frame, text=\"Show Bill Reminders\", command=show_bill_reminders, font=(\"Arial\", 12)).pack(pady=5)\n",
    "    tk.Button(frame, text=\"Classify Expenses\", command=show_expense_classification, font=(\"Arial\", 12)).pack(pady=5)\n",
    "    tk.Button(frame, text=\"Simulate Balance\", command=show_balance_warning, font=(\"Arial\", 12)).pack(pady=5)\n",
    "\n",
    "    root.mainloop()\n"
   ]
  },
  {
   "cell_type": "code",
   "execution_count": null,
   "id": "a0636f03",
   "metadata": {},
   "outputs": [],
   "source": [
    "# --- Login Screen ---\n",
    "def attempt_login():\n",
    "    username = entry_user.get()\n",
    "    password = entry_pass.get()\n",
    "    if username == \"admin\" and password == \"1234\":\n",
    "        finance_ui()\n",
    "    else:\n",
    "        messagebox.showerror(\"Login Failed\", \"Invalid username or password\")\n",
    "\n",
    "login_window = tk.Tk()\n",
    "login_window.title(\"Login\")\n",
    "\n",
    "tk.Label(login_window, text=\"Username:\").grid(row=0, column=0, padx=10, pady=10)\n",
    "entry_user = tk.Entry(login_window)\n",
    "entry_user.grid(row=0, column=1)\n",
    "\n",
    "tk.Label(login_window, text=\"Password:\").grid(row=1, column=0, padx=10, pady=10)\n",
    "entry_pass = tk.Entry(login_window, show=\"*\")\n",
    "entry_pass.grid(row=1, column=1)\n",
    "\n",
    "tk.Button(login_window, text=\"Login\", command=attempt_login).grid(row=2, columnspan=2, pady=10)\n",
    "\n",
    "login_window.mainloop()"
   ]
  }
 ],
 "metadata": {
  "kernelspec": {
   "display_name": "Python 3",
   "language": "python",
   "name": "python3"
  },
  "language_info": {
   "codemirror_mode": {
    "name": "ipython",
    "version": 3
   },
   "file_extension": ".py",
   "mimetype": "text/x-python",
   "name": "python",
   "nbconvert_exporter": "python",
   "pygments_lexer": "ipython3",
   "version": "3.11.1"
  }
 },
 "nbformat": 4,
 "nbformat_minor": 5
}
